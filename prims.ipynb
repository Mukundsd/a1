{
 "cells": [
  {
   "cell_type": "code",
   "execution_count": 8,
   "id": "098c8e79",
   "metadata": {},
   "outputs": [
    {
     "name": "stdout",
     "output_type": "stream",
     "text": [
      "Minimum Spanning Tree:\n",
      "A --(5)--> D\n",
      "A --(7)--> B\n",
      "D --(5)--> A\n",
      "D --(6)--> F\n",
      "F --(6)--> D\n",
      "B --(7)--> A\n",
      "B --(7)--> E\n",
      "E --(7)--> B\n",
      "E --(5)--> C\n",
      "E --(9)--> G\n",
      "C --(5)--> E\n",
      "G --(9)--> E\n"
     ]
    }
   ],
   "source": [
    "import heapq\n",
    "\n",
    "def prim(graph,start_node):\n",
    "    min_spanning_tree = {}\n",
    "    visited = set()\n",
    "    #start_node = next(iter(graph.keys()))  # Choose any starting node\n",
    "    visited.add(start_node)\n",
    "    edges = [(cost, start_node, neighbor) for neighbor, cost in graph[start_node]]\n",
    "    heapq.heapify(edges)\n",
    "\n",
    "    while edges:\n",
    "        cost, src, dest = heapq.heappop(edges)\n",
    "        if dest not in visited:\n",
    "            visited.add(dest)\n",
    "            if src not in min_spanning_tree:\n",
    "                min_spanning_tree[src] = [(dest, cost)]\n",
    "            else:\n",
    "                min_spanning_tree[src].append((dest, cost))\n",
    "            if dest not in min_spanning_tree:\n",
    "                min_spanning_tree[dest] = [(src, cost)]\n",
    "            else:\n",
    "                min_spanning_tree[dest].append((src, cost))\n",
    "\n",
    "            for neighbor, n_cost in graph[dest]:\n",
    "                if neighbor not in visited:\n",
    "                    heapq.heappush(edges, (n_cost, dest, neighbor))\n",
    "\n",
    "    return min_spanning_tree\n",
    "\n",
    "# Example graph\n",
    "graph = {\n",
    "    'A': [('B', 7), ('D', 5)],\n",
    "    'B': [('A', 7), ('C', 8), ('D', 9), ('E', 7)],\n",
    "    'C': [('B', 8), ('E', 5)],\n",
    "    'D': [('A', 5), ('B', 9), ('E', 15), ('F', 6)],\n",
    "    'E': [('B', 7), ('C', 5), ('D', 15), ('F', 8), ('G', 9)],\n",
    "    'F': [('D', 6), ('E', 8), ('G', 11)],\n",
    "    'G': [('E', 9), ('F', 11)]\n",
    "}\n",
    "\n",
    "\n",
    "min_spanning_tree = prim(graph,'A')\n",
    "print(\"Minimum Spanning Tree:\")\n",
    "for node, neighbors in min_spanning_tree.items():\n",
    "    for neighbor, cost in neighbors:\n",
    "        print(f\"{node} --({cost})--> {neighbor}\")\n"
   ]
  },
  {
   "cell_type": "code",
   "execution_count": 7,
   "id": "7160c185",
   "metadata": {},
   "outputs": [
    {
     "name": "stdout",
     "output_type": "stream",
     "text": [
      "{'A': ['D', 5, ('B', 7)], 'D': ['A', 5, ('F', 6)], 'F': ['D', 6], 'B': ['A', 7, ('E', 7)], 'E': ['B', 7, ('C', 5), ('G', 9)], 'C': ['E', 5], 'G': ['E', 9]}\n"
     ]
    }
   ],
   "source": [
    "import heapq\n",
    "\n",
    "def prime(graph,start_node):\n",
    "    tr={}\n",
    "    visited=set()\n",
    "    visited.add(start_node)\n",
    "    edges=[(cost,start_node,neighbour) for neighbour,cost in graph[start_node]]\n",
    "    heapq.heapify(edges)\n",
    "    while(edges):\n",
    "        cost,src,dest=heapq.heappop(edges)\n",
    "        if dest not in visited:\n",
    "            visited.add(dest)\n",
    "            if src not in tr:\n",
    "                tr[src]=[dest,cost]\n",
    "            else:\n",
    "                tr[src].append((dest,cost))\n",
    "            if dest not in tr:\n",
    "                tr[dest]=[src,cost]\n",
    "            else:\n",
    "                tr[dest].append((src,cost))\n",
    "            for neighbour,n_cost in graph[dest]:\n",
    "                if neighbour not in visited:\n",
    "                    heapq.heappush(edges,(n_cost,dest,neighbour))\n",
    "                    \n",
    "    return tr\n",
    "graph = {\n",
    "    'A': [('B', 7), ('D', 5)],\n",
    "    'B': [('A', 7), ('C', 8), ('D', 9), ('E', 7)],\n",
    "    'C': [('B', 8), ('E', 5)],\n",
    "    'D': [('A', 5), ('B', 9), ('E', 15), ('F', 6)],\n",
    "    'E': [('B', 7), ('C', 5), ('D', 15), ('F', 8), ('G', 9)],\n",
    "    'F': [('D', 6), ('E', 8), ('G', 11)],\n",
    "    'G': [('E', 9), ('F', 11)]\n",
    "}\n",
    "min_span_tree=prime(graph,'A')\n",
    "print(min_span_tree)\n",
    " "
   ]
  },
  {
   "cell_type": "code",
   "execution_count": 9,
   "id": "621f1717",
   "metadata": {},
   "outputs": [
    {
     "name": "stdout",
     "output_type": "stream",
     "text": [
      "[[1, 0, 0, 0, 0, 0, 0, 0], [0, 0, 0, 0, 0, 0, 1, 0], [0, 1, 0, 0, 0, 0, 0, 0], [0, 0, 0, 0, 0, 1, 0, 0], [0, 0, 0, 0, 0, 0, 0, 1], [0, 0, 1, 0, 0, 0, 0, 0], [0, 0, 0, 0, 1, 0, 0, 0], [0, 0, 0, 1, 0, 0, 0, 0]]\n"
     ]
    }
   ],
   "source": [
    "n=8\n",
    "def solve(board,col):\n",
    "    if col==n:\n",
    "        print (board)\n",
    "        return True\n",
    "    for i in range(n):\n",
    "        if issafe(board,i,col):\n",
    "            board[i][col]=1\n",
    "            if solve(board,col+1):\n",
    "                return True\n",
    "            board[i][col]=0\n",
    "    return False\n",
    "def issafe(board,row,col):\n",
    "    for i in range(col):\n",
    "        if board[row][i]==1:\n",
    "            return False\n",
    "    for x,y in zip(range(row,-1,-1),range(col,-1,-1)):\n",
    "        if board[x][y]==1:\n",
    "            return False\n",
    "    for x,y in zip(range(row,n,-1),range(col,-1,-1)):\n",
    "        if board[x][y]==1:\n",
    "            return False\n",
    "    return True\n",
    "board=[[0 for i in range (n)]for j in range (n)]\n",
    "if not solve(board,0):\n",
    "    print(\"not have sol\")\n",
    "        \n",
    "\n"
   ]
  },
  {
   "cell_type": "code",
   "execution_count": null,
   "id": "327c6cc8",
   "metadata": {},
   "outputs": [],
   "source": []
  }
 ],
 "metadata": {
  "kernelspec": {
   "display_name": "Python 3 (ipykernel)",
   "language": "python",
   "name": "python3"
  },
  "language_info": {
   "codemirror_mode": {
    "name": "ipython",
    "version": 3
   },
   "file_extension": ".py",
   "mimetype": "text/x-python",
   "name": "python",
   "nbconvert_exporter": "python",
   "pygments_lexer": "ipython3",
   "version": "3.11.5"
  }
 },
 "nbformat": 4,
 "nbformat_minor": 5
}
